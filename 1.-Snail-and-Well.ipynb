{
 "cells": [
  {
   "cell_type": "code",
   "execution_count": 11,
   "metadata": {},
   "outputs": [
    {
     "name": "stdout",
     "output_type": "stream",
     "text": [
      "1\n",
      "2\n",
      "3\n",
      "4\n",
      "5\n",
      "6\n",
      "7\n",
      "8\n",
      "9\n",
      "10\n",
      "11\n",
      "12\n",
      "13\n"
     ]
    }
   ],
   "source": [
    "#well_height é a altura do poço, com zero do eixo no fundo do poço\n",
    "#daily_distance é a distância percorrida durante o dia pelo caracol\n",
    "#nightly_distance é a distância percorrida durante a noite pelo caracol\n",
    "#snail_position é a distância percorrida até o dia especificado pela variável days\n",
    "#days são os dias passados desde a contagem zero, quando o caracol estava no fundo do poço (sem trocadilhos)\n",
    "\n",
    "well_height = 125\n",
    "daily_distance = 30\n",
    "nightly_distance = 20\n",
    "snail_position = 0\n",
    "days = 0\n",
    "\n",
    "while snail_position < well_height:\n",
    "    days += 1\n",
    "    snail_position = snail_position + daily_distance - nightly_distance\n",
    "    print (days)\n",
    "# Nesse caso vamos printar todos os dias, mas poderíamos colocar um if no final para somente printar quando o while terminasse e ter o último dia."
   ]
  },
  {
   "cell_type": "code",
   "execution_count": 21,
   "metadata": {},
   "outputs": [
    {
     "name": "stdout",
     "output_type": "stream",
     "text": [
      "1\n",
      "2\n",
      "3\n",
      "4\n",
      "5\n",
      "6\n"
     ]
    }
   ],
   "source": [
    "#well_height é a altura do poço, com zero do eixo no fundo do poço\n",
    "#daily_distance é a distância percorrida durante o dia pelo caracol, agora na forma de lista\n",
    "#nightly_distance é a distância percorrida durante a noite pelo caracol\n",
    "#snail_position é a distância percorrida até o dia especificado pela variável days\n",
    "#days são os dias passados desde a contagem zero, quando o caracol estava no fundo do poço (sem trocadilhos)\n",
    "\n",
    "well_height = 125\n",
    "daily_distance = [30, 21, 33, 77, 44, 45, 23, 45, 12, 34, 55]\n",
    "nightly_distance = 20\n",
    "snail_position = 0\n",
    "days = 0\n",
    "i = 0 #i será o elemento da lista daily_distance, tomaremos como 0 inicialmente pois é o primeiro índice, referente ao valor de 30\n",
    "\n",
    "while snail_position < well_height:\n",
    "    days += 1\n",
    "    snail_position = snail_position + daily_distance[i] - nightly_distance\n",
    "    i += 1 #como passará um dia, o deslocamento diário tem que ser do próximo termo da lista\n",
    "    print (days)"
   ]
  },
  {
   "cell_type": "code",
   "execution_count": 8,
   "metadata": {},
   "outputs": [
    {
     "name": "stdout",
     "output_type": "stream",
     "text": [
      "O deslocamento em cada dia é [10, 1, 13, 57, 24, 25]\n",
      "O deslocameno máximo é 57\n",
      "O deslocamento mínimo é 1\n",
      "O deslocamento médio é 21.666666666666668\n",
      "O desvio padrão é 17.81073334319006\n"
     ]
    }
   ],
   "source": [
    "#O maximum displacement pode ser calculado através do máximo da lista de displacement, criada a partir da subtração entre o daily distance e o nightly distance.\n",
    "daily_distance = [30, 21, 33, 77, 44, 45, 23, 45, 12, 34, 55]\n",
    "nightly_distance = 20\n",
    "days = 0\n",
    "i = 0\n",
    "displacement = [] #criaremos uma lista vazia, chamada displacement, para poder obter o máximo depois\n",
    "\n",
    "while days < 6:\n",
    "    displacement_value = daily_distance [i] - nightly_distance #criamos um valor displacement_value para realizar a subtração\n",
    "    days += 1\n",
    "    i += 1\n",
    "    displacement.append(displacement_value) #aqui vamos adicionar cada valor de displacement_value a lista displacement\n",
    "    \n",
    "maximum_displacement = max(displacement)\n",
    "minimum_displacement = min(displacement)\n",
    "mean_displacement = sum(displacement)/len(displacement)\n",
    "\n",
    "print (\"O deslocamento em cada dia é\",displacement) #vamos imprimir a lista final de deslocamento obtido nos 6 dias\n",
    "print (\"O deslocameno máximo é\",maximum_displacement) #vamos imprimir o deslocamento máximo obtido nos 6 dias\n",
    "print (\"O deslocamento mínimo é\",minimum_displacement) #vamos imprimir o deslocamento mínimo obtido nos 6 dias\n",
    "print (\"O deslocamento médio é\",mean_displacement) #vamos imprimir o deslocamento médio obtido nos 6 dias\n",
    "\n",
    "#Importamos a biblioteca numpy e chamamos a mesma por um alias np (só pra facilitar chamar nas próximas vezes), e aí printamos o desvio padrão:\n",
    "import numpy as np\n",
    "print(\"O desvio padrão é\",np.std(displacement))"
   ]
  },
  {
   "cell_type": "code",
   "execution_count": null,
   "metadata": {},
   "outputs": [],
   "source": []
  },
  {
   "cell_type": "code",
   "execution_count": null,
   "metadata": {},
   "outputs": [],
   "source": []
  }
 ],
 "metadata": {
  "kernelspec": {
   "display_name": "Python 3",
   "language": "python",
   "name": "python3"
  },
  "language_info": {
   "codemirror_mode": {
    "name": "ipython",
    "version": 3
   },
   "file_extension": ".py",
   "mimetype": "text/x-python",
   "name": "python",
   "nbconvert_exporter": "python",
   "pygments_lexer": "ipython3",
   "version": "3.8.5"
  }
 },
 "nbformat": 4,
 "nbformat_minor": 4
}
