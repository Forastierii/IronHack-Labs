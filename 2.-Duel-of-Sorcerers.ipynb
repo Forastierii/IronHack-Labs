{
 "cells": [
  {
   "cell_type": "code",
   "execution_count": 10,
   "metadata": {},
   "outputs": [
    {
     "name": "stdout",
     "output_type": "stream",
     "text": [
      "Saruman wins!\n",
      "Saruman wins!\n",
      "Gandalf wins!\n",
      "Saruman wins!\n",
      "Gandalf wins!\n",
      "Gandalf wins!\n",
      "Saruman wins!\n",
      "Gandalf wins!\n",
      "Gandalf wins!\n",
      "Gandalf wins!\n",
      "Gandalf wins 6 duels!\n",
      "Saruman wins 4 duels!\n"
     ]
    }
   ],
   "source": [
    "gandalf = [10, 11, 13, 30, 22, 11, 10, 33, 22, 22]\n",
    "saruman = [23, 66, 12, 43, 12, 10, 44, 23, 12, 17]\n",
    "spells = 0 #contador de duelos passados\n",
    "gandalf_wins = 0\n",
    "saruman_wins = 0\n",
    "max_spells = len(gandalf) #limita o número de duelos pela quantidade de termos na lista de spells do gandalf\n",
    "i = 0 #contador para acessar a lista de spells\n",
    "\n",
    "while spells < max_spells:\n",
    "    if gandalf[i] > saruman[i]:\n",
    "        gandalf_wins += 1\n",
    "        spells += 1\n",
    "        i += 1\n",
    "        print(\"Gandalf wins!\")\n",
    "    elif gandalf[i] < saruman[i]:\n",
    "        saruman_wins += 1\n",
    "        spells += 1\n",
    "        i += 1\n",
    "        print(\"Saruman wins!\")\n",
    "    else:\n",
    "        ties += 1\n",
    "        spells += 1\n",
    "        i += 1\n",
    "        print(\"Tie!\")\n",
    "print (\"Gandalf wins\", gandalf_wins, \"duels!\")\n",
    "print (\"Saruman wins\", saruman_wins, \"duels!\")"
   ]
  },
  {
   "cell_type": "code",
   "execution_count": null,
   "metadata": {},
   "outputs": [],
   "source": []
  }
 ],
 "metadata": {
  "kernelspec": {
   "display_name": "Python 3",
   "language": "python",
   "name": "python3"
  },
  "language_info": {
   "codemirror_mode": {
    "name": "ipython",
    "version": 3
   },
   "file_extension": ".py",
   "mimetype": "text/x-python",
   "name": "python",
   "nbconvert_exporter": "python",
   "pygments_lexer": "ipython3",
   "version": "3.8.5"
  }
 },
 "nbformat": 4,
 "nbformat_minor": 4
}
