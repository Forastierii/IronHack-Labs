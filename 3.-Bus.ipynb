{
 "cells": [
  {
   "cell_type": "code",
   "execution_count": 32,
   "metadata": {},
   "outputs": [
    {
     "name": "stdout",
     "output_type": "stream",
     "text": [
      "1. São 9 paradas.\n",
      "2. O número de passageiros na parada 0 é 10 passageiros.\n",
      "2. O número de passageiros na parada 1 é 13 passageiros.\n",
      "2. O número de passageiros na parada 2 é 11 passageiros.\n",
      "2. O número de passageiros na parada 3 é 10 passageiros.\n",
      "2. O número de passageiros na parada 4 é 14 passageiros.\n",
      "2. O número de passageiros na parada 5 é 10 passageiros.\n",
      "2. O número de passageiros na parada 6 é 7 passageiros.\n",
      "2. O número de passageiros na parada 7 é 5 passageiros.\n",
      "2. O número de passageiros na parada 8 é 4 passageiros.\n",
      "   Portanto, o número de passageiros a cada parada é descrito pela lista: [10, 13, 11, 10, 14, 10, 7, 5, 4]\n",
      "3. O número máximo ocupado no ônibus é 14 passageiros.\n",
      "4. A média de ocupação no ônibus é 9.333333333333334 passageiros.\n"
     ]
    }
   ],
   "source": [
    "#tuple de entrada e saída\n",
    "# bus_stop = (in, out) \n",
    "# tuple de sucessão de paradas\n",
    "# stops = [(in1, out1), (in2, out2), (in3, out3), (in4, out4)]\n",
    "# Variables\n",
    "stops = [(10, 0), (4, 1), (3, 5), (3, 4), (5, 1), (1, 5), (5, 8), (4, 6), (2, 3)]\n",
    "\n",
    "print(\"1. São\", len(stops), \"paradas.\")\n",
    "\n",
    "# 2. Assign to a variable a list whose elements are the number of passengers at each stop (in-out). Each item depends on the previous item in the list + in - out.\n",
    "# Nesse caso iremos criar uma variável passengers que será: passengers = in - out + passengers\n",
    "\n",
    "passengers = 0\n",
    "lista_passengers = []\n",
    "i = 0\n",
    "\n",
    "for stop in stops:\n",
    "    passengers = passengers + stops[i][0] - stops[i][1]\n",
    "    lista_passengers.append(passengers)\n",
    "    print (\"2. O número de passageiros na parada\",i,\"é\",passengers,\"passageiros.\")\n",
    "    i += 1\n",
    "    \n",
    "print (\"   Portanto, o número de passageiros a cada parada é descrito pela lista:\",lista_passengers)\n",
    "\n",
    "#3. Find the maximum occupation of the bus.\n",
    "#A máxima ocupação é descrita pelo máximo da variável lista_passengers.\n",
    "print(\"3. O número máximo ocupado no ônibus é\",max(lista_passengers),\"passageiros.\")\n",
    "\n",
    "#4. Calculate the average occupation. And the standard deviation.\n",
    "#Para calcular a média, utilizamos mean da variável lista_passengers.\n",
    "\n",
    "print(\"4. A média de ocupação no ônibus é\",sum(lista_passengers)/len(lista_passengers),\"passageiros.\")"
   ]
  },
  {
   "cell_type": "code",
   "execution_count": null,
   "metadata": {},
   "outputs": [],
   "source": []
  },
  {
   "cell_type": "code",
   "execution_count": null,
   "metadata": {},
   "outputs": [],
   "source": []
  }
 ],
 "metadata": {
  "kernelspec": {
   "display_name": "Python 3",
   "language": "python",
   "name": "python3"
  },
  "language_info": {
   "codemirror_mode": {
    "name": "ipython",
    "version": 3
   },
   "file_extension": ".py",
   "mimetype": "text/x-python",
   "name": "python",
   "nbconvert_exporter": "python",
   "pygments_lexer": "ipython3",
   "version": "3.8.5"
  }
 },
 "nbformat": 4,
 "nbformat_minor": 4
}
