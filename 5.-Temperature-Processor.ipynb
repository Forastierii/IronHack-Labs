{
 "cells": [
  {
   "cell_type": "code",
   "execution_count": 27,
   "metadata": {},
   "outputs": [
    {
     "name": "stdout",
     "output_type": "stream",
     "text": [
      "1. A menor temperatura foi de 0 graus C.\n",
      "2. A maior temperatura foi de 90 graus C.\n",
      "3. A lista de temperaturas é [76, 80, 81, 80, 83, 90, 79] .\n",
      "4. A temperatura média é de 60.25 graus C.\n",
      "5. Realizando a média entre os valores das 2am e 4am, a temperatura às 3am seria 62 graus C.\n",
      "6. As temperaturas em Fahrenheit são [91, 150, 149, 32, 138, 140, 143, 147, 158, 168, 176, 177, 176, 181, 194, 174, 141, 127, 122, 120, 127, 118, 113, 102] .\n",
      "7. Mais de 4 temperaturas acima de 70C, necessário trocar o sistema.\n"
     ]
    }
   ],
   "source": [
    "temperatures_C = [33, 66, 65, 0, 59, 60, 62, 64, 70, 76, 80, 81, 80, 83, 90, 79, 61, 53, 50, 49, 53, 48, 45, 39]\n",
    "\n",
    "#1. Find the minimum temperature of the day and store it in a variable.\n",
    "\n",
    "temp_min = min(temperatures_C)\n",
    "\n",
    "print(\"1. A menor temperatura foi de\",temp_min,\"graus C.\")\n",
    "\n",
    "#2. Find the maximum temperature of the day and store it in a variable.\n",
    "\n",
    "temp_max = max(temperatures_C)\n",
    "\n",
    "print(\"2. A maior temperatura foi de\",temp_max,\"graus C.\")\n",
    "\n",
    "#3. Create a list with the temperatures that are greater than or equal to 70ºC. Store it in a variable.\n",
    "\n",
    "temp_greater = []\n",
    "counter = 0\n",
    "counter_max = len(temperatures_C)\n",
    "i = 0\n",
    "\n",
    "while  counter < counter_max:\n",
    "    if temperatures_C[i] > 70:\n",
    "        temp_greater.append(temperatures_C[i])\n",
    "        counter += 1\n",
    "        i += 1\n",
    "    else:\n",
    "        counter += 1\n",
    "        i += 1\n",
    "        \n",
    "print(\"3. A lista de temperaturas é\",temp_greater,\".\")\n",
    "\n",
    "#4. Find the average temperature of the day and store it in a variable.\n",
    "\n",
    "temp_avg = sum(temperatures_C)/len(temperatures_C)\n",
    "print(\"4. A temperatura média é de\",temp_avg,\"graus C.\")\n",
    "\n",
    "#5. Imagine that there was a sensor failure at 3am and the data for that specific hour was not recorded. How would you estimate the missing value? Replace the current value of the list at 3am for an estimation.\n",
    "\n",
    "#Construíremos um dicionário com os keys horários e values as temperatures.\n",
    "#hora_temp = {hora1:temp1,hora2:temp2,...}\n",
    "\n",
    "hora_temp = {}\n",
    "\n",
    "for i in range(24):\n",
    "    hora_temp[i] = temperatures_C[i]\n",
    "    \n",
    "#Agora atribuíremos ao value da key 3 (3am) como a média dos values da key 2 (2am) e key 4 (4am).\n",
    "hora_temp[3] = (hora_temp[2] + hora_temp[4])//2 #Realizando a divisão com // pois são todos inteiros na divisão e não convém inserir um floating-point number no momento. \n",
    "print(\"5. Realizando a média entre os valores das 2am e 4am, a temperatura às 3am seria\", hora_temp[3], \"graus C.\")\n",
    "\n",
    "#6. Bonus: the maintenance staff is from the United States and does not understand the international metric system. Help them by converting the temperatures from Celsius to Fahrenheit.\n",
    "#Formula:\n",
    "#F = 1.8 * C + 32\n",
    "\n",
    "temperatures_F =[]\n",
    "i = 0\n",
    "\n",
    "for temperature in temperatures_C:\n",
    "    temperatures_F.append(int(temperatures_C[i]*1.8 + 32)) #Vamos deixar os temos como integer para seguir o padrão utilizado em Celsius.\n",
    "    i += 1\n",
    "print(\"6. As temperaturas em Fahrenheit são\",temperatures_F,\".\")\n",
    "\n",
    "#7. Make a decision!\n",
    "#Now it's time to make a decision taking into account what you have seen until now.\n",
    "#Remember that if one of the following events occurs, then the cooling system needs to be replaced for a new one to avoid damaging the processor.\n",
    "    #A. More than 4 temperatures are greater than or equal to 70ºC.\n",
    "    #B. Any temperature is above 80ºC.\n",
    "    #C. The average temperature exceeds 65ºC.\n",
    "#To make your decision, check if any of the three conditions above is met. You might need to use some of the variables you created in steps 1 to 6. Print a message to show if the cooling system needs to be changed or not.\n",
    "\n",
    "#Para checar se alguma das condições é satisfeita, vamos criar um IF:\n",
    "\n",
    "if len(temp_greater) > 4:\n",
    "    print(\"7. Mais de 4 temperaturas acima de 70C, necessário trocar o sistema.\")\n",
    "elif max_temp > 80:\n",
    "    print(\"7. Identificada temperatura maior que 80 graus, necessário trocar o sistema.\")\n",
    "elif temp_avg > 65:\n",
    "    print(\"7. Temperatura média acima de 65C, necessário trocar o sistema.\")\n",
    "else:\n",
    "    print(\"7. Não é necessário trocar o sistema.\")"
   ]
  },
  {
   "cell_type": "code",
   "execution_count": null,
   "metadata": {},
   "outputs": [],
   "source": []
  },
  {
   "cell_type": "code",
   "execution_count": null,
   "metadata": {},
   "outputs": [],
   "source": []
  },
  {
   "cell_type": "code",
   "execution_count": null,
   "metadata": {},
   "outputs": [],
   "source": []
  }
 ],
 "metadata": {
  "kernelspec": {
   "display_name": "Python 3",
   "language": "python",
   "name": "python3"
  },
  "language_info": {
   "codemirror_mode": {
    "name": "ipython",
    "version": 3
   },
   "file_extension": ".py",
   "mimetype": "text/x-python",
   "name": "python",
   "nbconvert_exporter": "python",
   "pygments_lexer": "ipython3",
   "version": "3.8.5"
  }
 },
 "nbformat": 4,
 "nbformat_minor": 4
}
